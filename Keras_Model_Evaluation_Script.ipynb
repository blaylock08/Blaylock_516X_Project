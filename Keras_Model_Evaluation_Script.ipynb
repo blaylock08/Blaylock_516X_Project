{
 "cells": [
  {
   "cell_type": "markdown",
   "metadata": {},
   "source": [
    "# Animal Identification - Keras Model Evaluation"
   ]
  },
  {
   "cell_type": "code",
   "execution_count": 1,
   "metadata": {},
   "outputs": [
    {
     "name": "stderr",
     "output_type": "stream",
     "text": [
      "Using TensorFlow backend.\n"
     ]
    }
   ],
   "source": [
    "# importing python packages for use\n",
    "\n",
    "import pandas as pd\n",
    "import numpy as np\n",
    "import matplotlib.pyplot as plt\n",
    "import seaborn as sns\n",
    "from PIL import Image\n",
    "from sklearn.model_selection import train_test_split\n",
    "\n",
    "# keras must be installed separately from normal python packages\n",
    "\n",
    "import keras \n",
    "from keras.preprocessing import image as keraimage\n",
    "from keras.layers import Dense,Dropout,Flatten,Conv2D,MaxPooling2D\n",
    "from keras.models import Sequential\n",
    "from keras.utils import to_categorical\n",
    "\n",
    "# importing machine learning models to test\n",
    "\n",
    "import sklearn.ensemble as ske\n",
    "RFC = ske.RandomForestClassifier\n",
    "from sklearn.cluster import KMeans\n",
    "from sklearn.naive_bayes import MultinomialNB as MNB\n",
    "from sklearn.naive_bayes import GaussianNB as GNB\n",
    "from sklearn.svm import SVC\n",
    "\n",
    "# importing metrics for model evaluation\n",
    "\n",
    "from sklearn import metrics"
   ]
  },
  {
   "cell_type": "code",
   "execution_count": 2,
   "metadata": {},
   "outputs": [
    {
     "data": {
      "text/html": [
       "<div>\n",
       "<style scoped>\n",
       "    .dataframe tbody tr th:only-of-type {\n",
       "        vertical-align: middle;\n",
       "    }\n",
       "\n",
       "    .dataframe tbody tr th {\n",
       "        vertical-align: top;\n",
       "    }\n",
       "\n",
       "    .dataframe thead th {\n",
       "        text-align: right;\n",
       "    }\n",
       "</style>\n",
       "<table border=\"1\" class=\"dataframe\">\n",
       "  <thead>\n",
       "    <tr style=\"text-align: right;\">\n",
       "      <th></th>\n",
       "      <th>Image</th>\n",
       "      <th>Class</th>\n",
       "      <th>ID</th>\n",
       "    </tr>\n",
       "  </thead>\n",
       "  <tbody>\n",
       "    <tr>\n",
       "      <th>0</th>\n",
       "      <td>0</td>\n",
       "      <td>Mammal</td>\n",
       "      <td>1</td>\n",
       "    </tr>\n",
       "    <tr>\n",
       "      <th>1</th>\n",
       "      <td>1</td>\n",
       "      <td>Mammal</td>\n",
       "      <td>1</td>\n",
       "    </tr>\n",
       "    <tr>\n",
       "      <th>2</th>\n",
       "      <td>2</td>\n",
       "      <td>Mammal</td>\n",
       "      <td>1</td>\n",
       "    </tr>\n",
       "    <tr>\n",
       "      <th>3</th>\n",
       "      <td>3</td>\n",
       "      <td>Mammal</td>\n",
       "      <td>1</td>\n",
       "    </tr>\n",
       "    <tr>\n",
       "      <th>4</th>\n",
       "      <td>4</td>\n",
       "      <td>Mammal</td>\n",
       "      <td>1</td>\n",
       "    </tr>\n",
       "  </tbody>\n",
       "</table>\n",
       "</div>"
      ],
      "text/plain": [
       "   Image   Class  ID\n",
       "0      0  Mammal   1\n",
       "1      1  Mammal   1\n",
       "2      2  Mammal   1\n",
       "3      3  Mammal   1\n",
       "4      4  Mammal   1"
      ]
     },
     "execution_count": 2,
     "metadata": {},
     "output_type": "execute_result"
    }
   ],
   "source": [
    "# importing the file with the group classification\n",
    "\n",
    "train = pd.read_excel('Training_ID.xlsx')\n",
    "train.head()"
   ]
  },
  {
   "cell_type": "code",
   "execution_count": 3,
   "metadata": {},
   "outputs": [
    {
     "data": {
      "text/plain": [
       "0    1\n",
       "1    1\n",
       "2    1\n",
       "3    1\n",
       "4    1\n",
       "Name: ID, dtype: int64"
      ]
     },
     "execution_count": 3,
     "metadata": {},
     "output_type": "execute_result"
    }
   ],
   "source": [
    "labels = train['ID']\n",
    "labels.head()"
   ]
  },
  {
   "cell_type": "markdown",
   "metadata": {},
   "source": [
    "# Keras Method of Image Classification:\n",
    "# Convolutional Neural Networks (CNN)"
   ]
  },
  {
   "cell_type": "markdown",
   "metadata": {},
   "source": [
    "Keras is a package in Python that is used quite often for image classification.\n",
    "I came accross it while doing research on classification methods and wanted to compare it to my other results."
   ]
  },
  {
   "cell_type": "code",
   "execution_count": 4,
   "metadata": {},
   "outputs": [
    {
     "name": "stdout",
     "output_type": "stream",
     "text": [
      "602.235\n",
      "929.492\n"
     ]
    }
   ],
   "source": [
    "# finding the average image size\n",
    "\n",
    "heights = []\n",
    "widths = []\n",
    "\n",
    "for j in range(train.shape[0]):\n",
    "    \n",
    "    image_path = 'Training_Data/'+train['Image'][j].astype('str')+'.jpg'\n",
    "    img = Image.open(image_path)\n",
    "    hxw = np.array(img)\n",
    "    heights.append(hxw.shape[0])\n",
    "    widths.append(hxw.shape[1])\n",
    "\n",
    "mean_h = sum(heights)/len(heights)\n",
    "mean_w = sum(widths)/len(widths)\n",
    "print(mean_h)\n",
    "print(mean_w)"
   ]
  },
  {
   "cell_type": "code",
   "execution_count": 5,
   "metadata": {},
   "outputs": [],
   "source": [
    "# changing the size of each image\n",
    "# required to work in the keras classification model\n",
    "\n",
    "img_h = 600\n",
    "img_w = 930\n",
    "\n",
    "for k in range(train.shape[0]):\n",
    "    \n",
    "    image_path = 'Training_Data/'+train['Image'][k].astype('str')+'.jpg'\n",
    "    img = Image.open(image_path)\n",
    "    new_img = img.convert('L')\n",
    "    new_img = new_img.resize((img_w,img_h), Image.ANTIALIAS)\n",
    "    \n",
    "    new_image_path = 'Training_Data/Resized_Images/'+train['Image'][k].astype('str')+'_Resized.jpg'\n",
    "    new_img.save(new_image_path)"
   ]
  },
  {
   "cell_type": "code",
   "execution_count": 7,
   "metadata": {},
   "outputs": [],
   "source": [
    "# Pulling the data from the image\n",
    "\n",
    "raw_image_data = []\n",
    "\n",
    "for l in range(train.shape[0]):\n",
    "\n",
    "    image_path = 'Training_Data/Resized_Images/'+train['Image'][l].astype('str')+'_Resized.jpg'\n",
    "    pic = Image.open(image_path)\n",
    "    \n",
    "    pic = keraimage.img_to_array(pic)\n",
    "    pic = pic/255\n",
    "    raw_image_data.append(pic)\n",
    "    \n",
    "X_keras = np.array(raw_image_data)\n",
    "Y_keras = to_categorical(labels)"
   ]
  },
  {
   "cell_type": "code",
   "execution_count": 8,
   "metadata": {},
   "outputs": [
    {
     "name": "stdout",
     "output_type": "stream",
     "text": [
      "(1000, 600, 930, 1)\n",
      "(1000, 6)\n"
     ]
    }
   ],
   "source": [
    "print(X_keras.shape)\n",
    "print(Y_keras.shape)"
   ]
  },
  {
   "cell_type": "code",
   "execution_count": 9,
   "metadata": {},
   "outputs": [
    {
     "data": {
      "text/plain": [
       "(875, 600, 930, 1)"
      ]
     },
     "execution_count": 9,
     "metadata": {},
     "output_type": "execute_result"
    }
   ],
   "source": [
    "# creating test and training sets for the model\n",
    "\n",
    "X_train_keras,X_test_keras,Y_train_keras,Y_test_keras = train_test_split(X_keras,Y_keras,test_size = 0.125,random_state = 0)\n",
    "X_train_keras.shape"
   ]
  },
  {
   "cell_type": "code",
   "execution_count": 10,
   "metadata": {},
   "outputs": [
    {
     "name": "stdout",
     "output_type": "stream",
     "text": [
      "WARNING:tensorflow:From C:\\Users\\abe_blaylock\\AppData\\Local\\Continuum\\anaconda3\\lib\\site-packages\\tensorflow\\python\\ops\\resource_variable_ops.py:435: colocate_with (from tensorflow.python.framework.ops) is deprecated and will be removed in a future version.\n",
      "Instructions for updating:\n",
      "Colocations handled automatically by placer.\n"
     ]
    }
   ],
   "source": [
    "# creating the keras model for image recognition\n",
    "\n",
    "keras_model = Sequential()\n",
    "keras_model.add(Conv2D(32, kernel_size=(3,3),activation='relu',input_shape=(600,930,1)))\n",
    "keras_model.add(Conv2D(64,(3,3),activation='relu'))\n",
    "keras_model.add(MaxPooling2D(pool_size=(2, 2)))\n",
    "keras_model.add(Dropout(0.25))\n",
    "keras_model.add(Flatten())\n",
    "keras_model.add(Dense(128, activation='relu'))\n",
    "keras_model.add(Dropout(0.5))\n",
    "keras_model.add(Dense(6, activation='softmax'))"
   ]
  },
  {
   "cell_type": "code",
   "execution_count": 11,
   "metadata": {},
   "outputs": [],
   "source": [
    "keras_model.compile(loss='categorical_crossentropy',optimizer='Adam',metrics=['accuracy'])"
   ]
  },
  {
   "cell_type": "code",
   "execution_count": null,
   "metadata": {},
   "outputs": [
    {
     "name": "stdout",
     "output_type": "stream",
     "text": [
      "WARNING:tensorflow:From C:\\Users\\abe_blaylock\\AppData\\Local\\Continuum\\anaconda3\\lib\\site-packages\\tensorflow\\python\\ops\\math_ops.py:3066: to_int32 (from tensorflow.python.ops.math_ops) is deprecated and will be removed in a future version.\n",
      "Instructions for updating:\n",
      "Use tf.cast instead.\n",
      "Train on 875 samples, validate on 125 samples\n",
      "Epoch 1/1\n",
      " 32/875 [>.............................] - ETA: 2:28:23 - loss: 1.7964 - accuracy: 0.1250"
     ]
    }
   ],
   "source": [
    "keras_model.fit(X_train_keras,Y_train_keras,epochs=1,validation_data=(X_test_keras,Y_test_keras))"
   ]
  },
  {
   "cell_type": "code",
   "execution_count": null,
   "metadata": {},
   "outputs": [],
   "source": [
    "Y_keras_predict = keras_model.predict_classes(X_test_keras)"
   ]
  }
 ],
 "metadata": {
  "kernelspec": {
   "display_name": "Python 3",
   "language": "python",
   "name": "python3"
  },
  "language_info": {
   "codemirror_mode": {
    "name": "ipython",
    "version": 3
   },
   "file_extension": ".py",
   "mimetype": "text/x-python",
   "name": "python",
   "nbconvert_exporter": "python",
   "pygments_lexer": "ipython3",
   "version": "3.7.3"
  }
 },
 "nbformat": 4,
 "nbformat_minor": 2
}
